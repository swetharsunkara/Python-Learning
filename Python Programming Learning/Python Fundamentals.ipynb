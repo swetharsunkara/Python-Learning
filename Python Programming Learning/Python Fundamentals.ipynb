{
 "cells": [
  {
   "cell_type": "markdown",
   "id": "8b059c13",
   "metadata": {},
   "source": [
    "### Hello World In Python"
   ]
  },
  {
   "cell_type": "code",
   "execution_count": 1,
   "id": "9bfcc603",
   "metadata": {},
   "outputs": [
    {
     "name": "stdout",
     "output_type": "stream",
     "text": [
      "Hello World!\n"
     ]
    }
   ],
   "source": [
    "print('Hello World!')"
   ]
  },
  {
   "cell_type": "markdown",
   "id": "6e424f1b",
   "metadata": {},
   "source": [
    "### Python Variables"
   ]
  },
  {
   "cell_type": "code",
   "execution_count": 2,
   "id": "de4a7bf7",
   "metadata": {},
   "outputs": [],
   "source": [
    "num1 = 100"
   ]
  },
  {
   "cell_type": "code",
   "execution_count": 3,
   "id": "bc5cffb0",
   "metadata": {},
   "outputs": [
    {
     "name": "stdout",
     "output_type": "stream",
     "text": [
      "100\n"
     ]
    }
   ],
   "source": [
    "print(num1)"
   ]
  },
  {
   "cell_type": "raw",
   "id": "6707debd",
   "metadata": {},
   "source": [
    "Rules to create a variable\n",
    "* It should not start with a number Ex (1num is incorrect way of creating a variable)\n",
    "* It can not have any special characters except _ Ex (num-1 is wrong but num_1 is correct)"
   ]
  },
  {
   "cell_type": "markdown",
   "id": "d596d928",
   "metadata": {},
   "source": [
    "### Data Types in Python"
   ]
  },
  {
   "cell_type": "raw",
   "id": "3fe38d9e",
   "metadata": {},
   "source": [
    "Text information should alway be within ' or \"\n",
    "Ex \"Hello World !\" or 'Hello World !'"
   ]
  },
  {
   "cell_type": "code",
   "execution_count": 4,
   "id": "3477b476",
   "metadata": {},
   "outputs": [],
   "source": [
    "text = \"Hello World !\""
   ]
  },
  {
   "cell_type": "code",
   "execution_count": 5,
   "id": "cd7fcb6a",
   "metadata": {},
   "outputs": [
    {
     "name": "stdout",
     "output_type": "stream",
     "text": [
      "Hello World !\n"
     ]
    }
   ],
   "source": [
    "print(text)"
   ]
  },
  {
   "cell_type": "raw",
   "id": "5e533c43",
   "metadata": {},
   "source": [
    "There are 4 popular data types in python:\n",
    "\n",
    "* Integer - To store numeric info \n",
    "* Float - To store decimal numbers\n",
    "* String - To store text data\n",
    "* Boolean - To store True/False\n",
    "\n",
    "We have type function in Python to check the data type of any variable or information"
   ]
  },
  {
   "cell_type": "code",
   "execution_count": 6,
   "id": "203c8179",
   "metadata": {},
   "outputs": [
    {
     "data": {
      "text/plain": [
       "int"
      ]
     },
     "execution_count": 6,
     "metadata": {},
     "output_type": "execute_result"
    }
   ],
   "source": [
    "type(100)"
   ]
  },
  {
   "cell_type": "code",
   "execution_count": 7,
   "id": "df119ca2",
   "metadata": {},
   "outputs": [
    {
     "data": {
      "text/plain": [
       "float"
      ]
     },
     "execution_count": 7,
     "metadata": {},
     "output_type": "execute_result"
    }
   ],
   "source": [
    "type(99.9)"
   ]
  },
  {
   "cell_type": "code",
   "execution_count": 8,
   "id": "07e32d1d",
   "metadata": {},
   "outputs": [
    {
     "data": {
      "text/plain": [
       "str"
      ]
     },
     "execution_count": 8,
     "metadata": {},
     "output_type": "execute_result"
    }
   ],
   "source": [
    "type(\"99.9\")"
   ]
  },
  {
   "cell_type": "code",
   "execution_count": 9,
   "id": "5b79c00e",
   "metadata": {
    "scrolled": true
   },
   "outputs": [
    {
     "data": {
      "text/plain": [
       "bool"
      ]
     },
     "execution_count": 9,
     "metadata": {},
     "output_type": "execute_result"
    }
   ],
   "source": [
    "type(True)"
   ]
  },
  {
   "cell_type": "raw",
   "id": "e2e7f5b8",
   "metadata": {},
   "source": [
    "Create a variable\n",
    "Store any type of information\n",
    "Check the data type of the variable"
   ]
  },
  {
   "cell_type": "markdown",
   "id": "8d2ce324",
   "metadata": {},
   "source": [
    "### Type conversion in Python"
   ]
  },
  {
   "cell_type": "markdown",
   "id": "df4d614a",
   "metadata": {},
   "source": [
    "#### Use Case - 1"
   ]
  },
  {
   "cell_type": "code",
   "execution_count": 10,
   "id": "beb46b2b",
   "metadata": {},
   "outputs": [],
   "source": [
    "var = 100"
   ]
  },
  {
   "cell_type": "code",
   "execution_count": 11,
   "id": "74e794fe",
   "metadata": {},
   "outputs": [
    {
     "data": {
      "text/plain": [
       "int"
      ]
     },
     "execution_count": 11,
     "metadata": {},
     "output_type": "execute_result"
    }
   ],
   "source": [
    "type(var)"
   ]
  },
  {
   "cell_type": "code",
   "execution_count": 12,
   "id": "44b420ce",
   "metadata": {},
   "outputs": [
    {
     "data": {
      "text/plain": [
       "100.0"
      ]
     },
     "execution_count": 12,
     "metadata": {},
     "output_type": "execute_result"
    }
   ],
   "source": [
    "float(var)"
   ]
  },
  {
   "cell_type": "code",
   "execution_count": 13,
   "id": "d7f865e5",
   "metadata": {},
   "outputs": [],
   "source": [
    "var_converted = str(var)"
   ]
  },
  {
   "cell_type": "code",
   "execution_count": 14,
   "id": "b93a32f8",
   "metadata": {},
   "outputs": [
    {
     "data": {
      "text/plain": [
       "str"
      ]
     },
     "execution_count": 14,
     "metadata": {},
     "output_type": "execute_result"
    }
   ],
   "source": [
    "type(var_converted)"
   ]
  },
  {
   "cell_type": "markdown",
   "id": "2c4c4876",
   "metadata": {},
   "source": [
    "#### Use Case - 2"
   ]
  },
  {
   "cell_type": "code",
   "execution_count": 15,
   "id": "a8bfd0bb",
   "metadata": {},
   "outputs": [],
   "source": [
    "var = 'Python is easy !'"
   ]
  },
  {
   "cell_type": "code",
   "execution_count": 17,
   "id": "7f6b1730",
   "metadata": {},
   "outputs": [
    {
     "ename": "ValueError",
     "evalue": "invalid literal for int() with base 10: 'Python is easy !'",
     "output_type": "error",
     "traceback": [
      "\u001b[1;31m---------------------------------------------------------------------------\u001b[0m",
      "\u001b[1;31mValueError\u001b[0m                                Traceback (most recent call last)",
      "\u001b[1;32m~\\AppData\\Local\\Temp\\ipykernel_272\\2269922384.py\u001b[0m in \u001b[0;36m<module>\u001b[1;34m\u001b[0m\n\u001b[1;32m----> 1\u001b[1;33m \u001b[0mint\u001b[0m\u001b[1;33m(\u001b[0m\u001b[0mvar\u001b[0m\u001b[1;33m)\u001b[0m\u001b[1;33m\u001b[0m\u001b[1;33m\u001b[0m\u001b[0m\n\u001b[0m",
      "\u001b[1;31mValueError\u001b[0m: invalid literal for int() with base 10: 'Python is easy !'"
     ]
    }
   ],
   "source": [
    "int(var)\n",
    "\n",
    "#this is not an number if any thing is numeric then we can display the output"
   ]
  },
  {
   "cell_type": "code",
   "execution_count": 18,
   "id": "37f99787",
   "metadata": {},
   "outputs": [],
   "source": [
    "var = \"100\""
   ]
  },
  {
   "cell_type": "code",
   "execution_count": 19,
   "id": "2198a306",
   "metadata": {},
   "outputs": [
    {
     "data": {
      "text/plain": [
       "100"
      ]
     },
     "execution_count": 19,
     "metadata": {},
     "output_type": "execute_result"
    }
   ],
   "source": [
    "int(var)"
   ]
  },
  {
   "cell_type": "markdown",
   "id": "8125d701",
   "metadata": {},
   "source": [
    "#### Use Case - 3"
   ]
  },
  {
   "cell_type": "code",
   "execution_count": 79,
   "id": "0a10f9c8",
   "metadata": {},
   "outputs": [],
   "source": [
    "var = \"99.9\" # this cannot be converted into integer"
   ]
  },
  {
   "cell_type": "code",
   "execution_count": 80,
   "id": "c1d2943d",
   "metadata": {},
   "outputs": [
    {
     "ename": "ValueError",
     "evalue": "invalid literal for int() with base 10: '99.9'",
     "output_type": "error",
     "traceback": [
      "\u001b[1;31m---------------------------------------------------------------------------\u001b[0m",
      "\u001b[1;31mValueError\u001b[0m                                Traceback (most recent call last)",
      "\u001b[1;32m~\\AppData\\Local\\Temp\\ipykernel_272\\2269922384.py\u001b[0m in \u001b[0;36m<module>\u001b[1;34m\u001b[0m\n\u001b[1;32m----> 1\u001b[1;33m \u001b[0mint\u001b[0m\u001b[1;33m(\u001b[0m\u001b[0mvar\u001b[0m\u001b[1;33m)\u001b[0m\u001b[1;33m\u001b[0m\u001b[1;33m\u001b[0m\u001b[0m\n\u001b[0m",
      "\u001b[1;31mValueError\u001b[0m: invalid literal for int() with base 10: '99.9'"
     ]
    }
   ],
   "source": [
    "int(var)"
   ]
  },
  {
   "cell_type": "code",
   "execution_count": 82,
   "id": "450a23bf",
   "metadata": {},
   "outputs": [
    {
     "data": {
      "text/plain": [
       "99.9"
      ]
     },
     "execution_count": 82,
     "metadata": {},
     "output_type": "execute_result"
    }
   ],
   "source": [
    "float(var)"
   ]
  },
  {
   "cell_type": "code",
   "execution_count": 83,
   "id": "524065b0",
   "metadata": {},
   "outputs": [
    {
     "data": {
      "text/plain": [
       "99"
      ]
     },
     "execution_count": 83,
     "metadata": {},
     "output_type": "execute_result"
    }
   ],
   "source": [
    "int(float(var))"
   ]
  },
  {
   "cell_type": "code",
   "execution_count": 20,
   "id": "2d5377c1",
   "metadata": {},
   "outputs": [
    {
     "data": {
      "text/plain": [
       "str"
      ]
     },
     "execution_count": 20,
     "metadata": {},
     "output_type": "execute_result"
    }
   ],
   "source": [
    "type(var)"
   ]
  },
  {
   "cell_type": "markdown",
   "id": "e3653a53",
   "metadata": {},
   "source": [
    "#### Use Case - 4"
   ]
  },
  {
   "cell_type": "code",
   "execution_count": 24,
   "id": "d8c0f9fa",
   "metadata": {},
   "outputs": [],
   "source": [
    "var = 1"
   ]
  },
  {
   "cell_type": "code",
   "execution_count": 25,
   "id": "fff5a370",
   "metadata": {},
   "outputs": [
    {
     "data": {
      "text/plain": [
       "True"
      ]
     },
     "execution_count": 25,
     "metadata": {},
     "output_type": "execute_result"
    }
   ],
   "source": [
    "bool(var)"
   ]
  },
  {
   "cell_type": "code",
   "execution_count": 26,
   "id": "f6982298",
   "metadata": {},
   "outputs": [],
   "source": [
    "var = 0"
   ]
  },
  {
   "cell_type": "code",
   "execution_count": 27,
   "id": "82ed8633",
   "metadata": {},
   "outputs": [
    {
     "data": {
      "text/plain": [
       "False"
      ]
     },
     "execution_count": 27,
     "metadata": {},
     "output_type": "execute_result"
    }
   ],
   "source": [
    "bool(var)"
   ]
  },
  {
   "cell_type": "code",
   "execution_count": 28,
   "id": "b64e49a3",
   "metadata": {},
   "outputs": [
    {
     "data": {
      "text/plain": [
       "True"
      ]
     },
     "execution_count": 28,
     "metadata": {},
     "output_type": "execute_result"
    }
   ],
   "source": [
    "var = 100\n",
    "bool(var)"
   ]
  },
  {
   "cell_type": "raw",
   "id": "1380a7d1",
   "metadata": {},
   "source": [
    "Anything except 0 will be True"
   ]
  },
  {
   "cell_type": "code",
   "execution_count": 29,
   "id": "e3cc5656",
   "metadata": {},
   "outputs": [
    {
     "data": {
      "text/plain": [
       "True"
      ]
     },
     "execution_count": 29,
     "metadata": {},
     "output_type": "execute_result"
    }
   ],
   "source": [
    "var = -100\n",
    "bool(var)"
   ]
  },
  {
   "cell_type": "code",
   "execution_count": 30,
   "id": "4fe89dbb",
   "metadata": {},
   "outputs": [
    {
     "data": {
      "text/plain": [
       "True"
      ]
     },
     "execution_count": 30,
     "metadata": {},
     "output_type": "execute_result"
    }
   ],
   "source": [
    "var = \"0\"\n",
    "bool(var)"
   ]
  },
  {
   "cell_type": "code",
   "execution_count": 31,
   "id": "e6bbdec7",
   "metadata": {},
   "outputs": [
    {
     "data": {
      "text/plain": [
       "True"
      ]
     },
     "execution_count": 31,
     "metadata": {},
     "output_type": "execute_result"
    }
   ],
   "source": [
    "var = \"False\"\n",
    "bool(var)"
   ]
  },
  {
   "cell_type": "code",
   "execution_count": 32,
   "id": "c015573e",
   "metadata": {},
   "outputs": [
    {
     "data": {
      "text/plain": [
       "False"
      ]
     },
     "execution_count": 32,
     "metadata": {},
     "output_type": "execute_result"
    }
   ],
   "source": [
    "var = \"\"\n",
    "bool(var)"
   ]
  },
  {
   "cell_type": "raw",
   "id": "054bcd5c",
   "metadata": {},
   "source": [
    "Anything except the blank string is True"
   ]
  },
  {
   "cell_type": "markdown",
   "id": "fb1ebf27",
   "metadata": {},
   "source": [
    "### Operators In Python"
   ]
  },
  {
   "cell_type": "raw",
   "id": "bd82ca2e",
   "metadata": {},
   "source": [
    "* Arithematic Operators\n",
    "* Assignment Operators\n",
    "* Comparison Operators\n",
    "* Logical Operators"
   ]
  },
  {
   "cell_type": "markdown",
   "id": "0ed8d777",
   "metadata": {},
   "source": [
    "#### Arithematic Operators"
   ]
  },
  {
   "cell_type": "code",
   "execution_count": 33,
   "id": "6fc3289b",
   "metadata": {},
   "outputs": [
    {
     "data": {
      "text/plain": [
       "20"
      ]
     },
     "execution_count": 33,
     "metadata": {},
     "output_type": "execute_result"
    }
   ],
   "source": [
    "10 + 10"
   ]
  },
  {
   "cell_type": "code",
   "execution_count": 34,
   "id": "c2af2556",
   "metadata": {},
   "outputs": [
    {
     "data": {
      "text/plain": [
       "90"
      ]
     },
     "execution_count": 34,
     "metadata": {},
     "output_type": "execute_result"
    }
   ],
   "source": [
    "100 - 10"
   ]
  },
  {
   "cell_type": "code",
   "execution_count": 35,
   "id": "7d956822",
   "metadata": {},
   "outputs": [
    {
     "data": {
      "text/plain": [
       "990.0"
      ]
     },
     "execution_count": 35,
     "metadata": {},
     "output_type": "execute_result"
    }
   ],
   "source": [
    "100 * 9.9"
   ]
  },
  {
   "cell_type": "code",
   "execution_count": 36,
   "id": "e8a00652",
   "metadata": {},
   "outputs": [
    {
     "data": {
      "text/plain": [
       "11.11111111111111"
      ]
     },
     "execution_count": 36,
     "metadata": {},
     "output_type": "execute_result"
    }
   ],
   "source": [
    "100 / 9"
   ]
  },
  {
   "cell_type": "code",
   "execution_count": 37,
   "id": "11bc630b",
   "metadata": {},
   "outputs": [
    {
     "data": {
      "text/plain": [
       "11"
      ]
     },
     "execution_count": 37,
     "metadata": {},
     "output_type": "execute_result"
    }
   ],
   "source": [
    "100 // 9"
   ]
  },
  {
   "cell_type": "code",
   "execution_count": 38,
   "id": "2da23e3c",
   "metadata": {},
   "outputs": [
    {
     "data": {
      "text/plain": [
       "12.5"
      ]
     },
     "execution_count": 38,
     "metadata": {},
     "output_type": "execute_result"
    }
   ],
   "source": [
    "100 / 8"
   ]
  },
  {
   "cell_type": "code",
   "execution_count": 39,
   "id": "3b7e4c54",
   "metadata": {},
   "outputs": [
    {
     "data": {
      "text/plain": [
       "12"
      ]
     },
     "execution_count": 39,
     "metadata": {},
     "output_type": "execute_result"
    }
   ],
   "source": [
    "100 // 8"
   ]
  },
  {
   "cell_type": "code",
   "execution_count": 40,
   "id": "d445f0b0",
   "metadata": {},
   "outputs": [
    {
     "data": {
      "text/plain": [
       "1"
      ]
     },
     "execution_count": 40,
     "metadata": {},
     "output_type": "execute_result"
    }
   ],
   "source": [
    "100 % 9"
   ]
  },
  {
   "cell_type": "code",
   "execution_count": 41,
   "id": "eb4f7f0b",
   "metadata": {},
   "outputs": [
    {
     "data": {
      "text/plain": [
       "4"
      ]
     },
     "execution_count": 41,
     "metadata": {},
     "output_type": "execute_result"
    }
   ],
   "source": [
    "100 % 8"
   ]
  },
  {
   "cell_type": "raw",
   "id": "800caf80",
   "metadata": {},
   "source": [
    "% operator gives remainder"
   ]
  },
  {
   "cell_type": "code",
   "execution_count": 42,
   "id": "33b18fe0",
   "metadata": {},
   "outputs": [
    {
     "data": {
      "text/plain": [
       "1"
      ]
     },
     "execution_count": 42,
     "metadata": {},
     "output_type": "execute_result"
    }
   ],
   "source": [
    "10 % 3"
   ]
  },
  {
   "cell_type": "code",
   "execution_count": 43,
   "id": "b901f782",
   "metadata": {},
   "outputs": [
    {
     "data": {
      "text/plain": [
       "81"
      ]
     },
     "execution_count": 43,
     "metadata": {},
     "output_type": "execute_result"
    }
   ],
   "source": [
    "9 ** 2"
   ]
  },
  {
   "cell_type": "code",
   "execution_count": 44,
   "id": "08e0ddd4",
   "metadata": {},
   "outputs": [
    {
     "data": {
      "text/plain": [
       "729"
      ]
     },
     "execution_count": 44,
     "metadata": {},
     "output_type": "execute_result"
    }
   ],
   "source": [
    "9 ** 3"
   ]
  },
  {
   "cell_type": "raw",
   "id": "4e4eebbb",
   "metadata": {},
   "source": [
    "** is the power operator"
   ]
  },
  {
   "cell_type": "markdown",
   "id": "962477da",
   "metadata": {},
   "source": [
    "#### Assignment Operator"
   ]
  },
  {
   "cell_type": "code",
   "execution_count": 45,
   "id": "7ecced1e",
   "metadata": {},
   "outputs": [],
   "source": [
    "var = 10"
   ]
  },
  {
   "cell_type": "code",
   "execution_count": 46,
   "id": "6c40b861",
   "metadata": {},
   "outputs": [],
   "source": [
    "var += 100"
   ]
  },
  {
   "cell_type": "code",
   "execution_count": 47,
   "id": "f8e24422",
   "metadata": {},
   "outputs": [
    {
     "name": "stdout",
     "output_type": "stream",
     "text": [
      "110\n"
     ]
    }
   ],
   "source": [
    "print(var)"
   ]
  },
  {
   "cell_type": "code",
   "execution_count": 48,
   "id": "4bb43552",
   "metadata": {},
   "outputs": [],
   "source": [
    "var -= var-90"
   ]
  },
  {
   "cell_type": "code",
   "execution_count": 49,
   "id": "258be24f",
   "metadata": {},
   "outputs": [
    {
     "name": "stdout",
     "output_type": "stream",
     "text": [
      "90\n"
     ]
    }
   ],
   "source": [
    "print(var)"
   ]
  },
  {
   "cell_type": "code",
   "execution_count": 50,
   "id": "95da51e7",
   "metadata": {},
   "outputs": [],
   "source": [
    "var *= var//10"
   ]
  },
  {
   "cell_type": "code",
   "execution_count": 51,
   "id": "5aecd51f",
   "metadata": {},
   "outputs": [
    {
     "name": "stdout",
     "output_type": "stream",
     "text": [
      "810\n"
     ]
    }
   ],
   "source": [
    "print(var)"
   ]
  },
  {
   "cell_type": "markdown",
   "id": "3bd0a669",
   "metadata": {},
   "source": [
    "#### Comparison Operators"
   ]
  },
  {
   "cell_type": "raw",
   "id": "c5647a8c",
   "metadata": {},
   "source": [
    "Comparison will always return boolean value\n",
    "\n",
    "== compares if LHS = RHS\n",
    "!= compares if LHS is not equals to RHS"
   ]
  },
  {
   "cell_type": "code",
   "execution_count": 52,
   "id": "9899124a",
   "metadata": {},
   "outputs": [
    {
     "data": {
      "text/plain": [
       "True"
      ]
     },
     "execution_count": 52,
     "metadata": {},
     "output_type": "execute_result"
    }
   ],
   "source": [
    "10 == 10"
   ]
  },
  {
   "cell_type": "code",
   "execution_count": 53,
   "id": "68d56f09",
   "metadata": {},
   "outputs": [
    {
     "data": {
      "text/plain": [
       "False"
      ]
     },
     "execution_count": 53,
     "metadata": {},
     "output_type": "execute_result"
    }
   ],
   "source": [
    "10 != 10"
   ]
  },
  {
   "cell_type": "code",
   "execution_count": 54,
   "id": "d478cdac",
   "metadata": {},
   "outputs": [
    {
     "data": {
      "text/plain": [
       "True"
      ]
     },
     "execution_count": 54,
     "metadata": {},
     "output_type": "execute_result"
    }
   ],
   "source": [
    "100 != 10"
   ]
  },
  {
   "cell_type": "code",
   "execution_count": 55,
   "id": "b30c046b",
   "metadata": {},
   "outputs": [
    {
     "data": {
      "text/plain": [
       "True"
      ]
     },
     "execution_count": 55,
     "metadata": {},
     "output_type": "execute_result"
    }
   ],
   "source": [
    "100 > 10"
   ]
  },
  {
   "cell_type": "code",
   "execution_count": 56,
   "id": "992dba56",
   "metadata": {},
   "outputs": [
    {
     "data": {
      "text/plain": [
       "False"
      ]
     },
     "execution_count": 56,
     "metadata": {},
     "output_type": "execute_result"
    }
   ],
   "source": [
    "100 < 10"
   ]
  },
  {
   "cell_type": "code",
   "execution_count": 57,
   "id": "89560610",
   "metadata": {},
   "outputs": [
    {
     "data": {
      "text/plain": [
       "False"
      ]
     },
     "execution_count": 57,
     "metadata": {},
     "output_type": "execute_result"
    }
   ],
   "source": [
    "10 > 10"
   ]
  },
  {
   "cell_type": "code",
   "execution_count": 58,
   "id": "2bcbc0fa",
   "metadata": {},
   "outputs": [
    {
     "data": {
      "text/plain": [
       "True"
      ]
     },
     "execution_count": 58,
     "metadata": {},
     "output_type": "execute_result"
    }
   ],
   "source": [
    "10 <= 10"
   ]
  },
  {
   "cell_type": "code",
   "execution_count": 59,
   "id": "472b3221",
   "metadata": {},
   "outputs": [
    {
     "data": {
      "text/plain": [
       "False"
      ]
     },
     "execution_count": 59,
     "metadata": {},
     "output_type": "execute_result"
    }
   ],
   "source": [
    "10 < 10"
   ]
  },
  {
   "cell_type": "code",
   "execution_count": 60,
   "id": "9412c27a",
   "metadata": {},
   "outputs": [
    {
     "data": {
      "text/plain": [
       "True"
      ]
     },
     "execution_count": 60,
     "metadata": {},
     "output_type": "execute_result"
    }
   ],
   "source": [
    "10 <= 10"
   ]
  },
  {
   "cell_type": "markdown",
   "id": "ac802ea0",
   "metadata": {},
   "source": [
    "#### Logical Operators"
   ]
  },
  {
   "cell_type": "code",
   "execution_count": 61,
   "id": "c59516cd",
   "metadata": {},
   "outputs": [
    {
     "data": {
      "text/plain": [
       "True"
      ]
     },
     "execution_count": 61,
     "metadata": {},
     "output_type": "execute_result"
    }
   ],
   "source": [
    "True and True"
   ]
  },
  {
   "cell_type": "code",
   "execution_count": 62,
   "id": "87f64307",
   "metadata": {},
   "outputs": [
    {
     "data": {
      "text/plain": [
       "False"
      ]
     },
     "execution_count": 62,
     "metadata": {},
     "output_type": "execute_result"
    }
   ],
   "source": [
    "True and False"
   ]
  },
  {
   "cell_type": "code",
   "execution_count": 63,
   "id": "5d834530",
   "metadata": {},
   "outputs": [
    {
     "data": {
      "text/plain": [
       "False"
      ]
     },
     "execution_count": 63,
     "metadata": {},
     "output_type": "execute_result"
    }
   ],
   "source": [
    "False and False"
   ]
  },
  {
   "cell_type": "code",
   "execution_count": 64,
   "id": "e7641872",
   "metadata": {},
   "outputs": [
    {
     "data": {
      "text/plain": [
       "False"
      ]
     },
     "execution_count": 64,
     "metadata": {},
     "output_type": "execute_result"
    }
   ],
   "source": [
    "False and True"
   ]
  },
  {
   "cell_type": "code",
   "execution_count": 65,
   "id": "48e1355f",
   "metadata": {},
   "outputs": [
    {
     "data": {
      "text/plain": [
       "True"
      ]
     },
     "execution_count": 65,
     "metadata": {},
     "output_type": "execute_result"
    }
   ],
   "source": [
    "True or True"
   ]
  },
  {
   "cell_type": "code",
   "execution_count": 66,
   "id": "6f1251eb",
   "metadata": {},
   "outputs": [
    {
     "data": {
      "text/plain": [
       "True"
      ]
     },
     "execution_count": 66,
     "metadata": {},
     "output_type": "execute_result"
    }
   ],
   "source": [
    "True or False"
   ]
  },
  {
   "cell_type": "code",
   "execution_count": 67,
   "id": "cb1d285d",
   "metadata": {},
   "outputs": [
    {
     "data": {
      "text/plain": [
       "True"
      ]
     },
     "execution_count": 67,
     "metadata": {},
     "output_type": "execute_result"
    }
   ],
   "source": [
    "False or True"
   ]
  },
  {
   "cell_type": "code",
   "execution_count": 68,
   "id": "ae1fa985",
   "metadata": {},
   "outputs": [
    {
     "data": {
      "text/plain": [
       "False"
      ]
     },
     "execution_count": 68,
     "metadata": {},
     "output_type": "execute_result"
    }
   ],
   "source": [
    "False or False"
   ]
  },
  {
   "cell_type": "code",
   "execution_count": 69,
   "id": "719c9415",
   "metadata": {},
   "outputs": [
    {
     "data": {
      "text/plain": [
       "False"
      ]
     },
     "execution_count": 69,
     "metadata": {},
     "output_type": "execute_result"
    }
   ],
   "source": [
    "not True"
   ]
  },
  {
   "cell_type": "code",
   "execution_count": 70,
   "id": "32846e51",
   "metadata": {},
   "outputs": [
    {
     "data": {
      "text/plain": [
       "True"
      ]
     },
     "execution_count": 70,
     "metadata": {},
     "output_type": "execute_result"
    }
   ],
   "source": [
    "not False"
   ]
  },
  {
   "cell_type": "code",
   "execution_count": 71,
   "id": "35b55686",
   "metadata": {},
   "outputs": [
    {
     "data": {
      "text/plain": [
       "True"
      ]
     },
     "execution_count": 71,
     "metadata": {},
     "output_type": "execute_result"
    }
   ],
   "source": [
    "not (10 > 100/10 and 10 != 90/9)"
   ]
  },
  {
   "cell_type": "markdown",
   "id": "0be0d182",
   "metadata": {},
   "source": [
    "### Taking user inputs"
   ]
  },
  {
   "cell_type": "code",
   "execution_count": 72,
   "id": "b5110383",
   "metadata": {},
   "outputs": [
    {
     "name": "stdout",
     "output_type": "stream",
     "text": [
      "Enter anything: test\n"
     ]
    }
   ],
   "source": [
    "var = input('Enter anything: ')"
   ]
  },
  {
   "cell_type": "code",
   "execution_count": 73,
   "id": "58ffbe08",
   "metadata": {},
   "outputs": [
    {
     "data": {
      "text/plain": [
       "'test'"
      ]
     },
     "execution_count": 73,
     "metadata": {},
     "output_type": "execute_result"
    }
   ],
   "source": [
    "var"
   ]
  },
  {
   "cell_type": "code",
   "execution_count": 76,
   "id": "5b46e03c",
   "metadata": {},
   "outputs": [
    {
     "name": "stdout",
     "output_type": "stream",
     "text": [
      "Enter anything: 123\n"
     ]
    }
   ],
   "source": [
    "var = int(input('Enter anything: '))"
   ]
  },
  {
   "cell_type": "code",
   "execution_count": 77,
   "id": "6d431890",
   "metadata": {},
   "outputs": [
    {
     "data": {
      "text/plain": [
       "123"
      ]
     },
     "execution_count": 77,
     "metadata": {},
     "output_type": "execute_result"
    }
   ],
   "source": [
    "var"
   ]
  },
  {
   "cell_type": "raw",
   "id": "07f2e30e",
   "metadata": {},
   "source": [
    "Write a program to take two numeric inputs and print the sum of both"
   ]
  },
  {
   "cell_type": "raw",
   "id": "29270210",
   "metadata": {},
   "source": [
    "Write a program to take two numeric inputs and swap the values"
   ]
  },
  {
   "cell_type": "code",
   "execution_count": 78,
   "id": "a8120b23",
   "metadata": {},
   "outputs": [
    {
     "name": "stdout",
     "output_type": "stream",
     "text": [
      "Enter any number: 2\n",
      "Enter any number: 6\n",
      "6\n",
      "2\n"
     ]
    }
   ],
   "source": [
    "var1 = int(input('Enter any number: '))\n",
    "var2 = int(input('Enter any number: '))\n",
    "\n",
    "var1 = var1 + var2\n",
    "var2 = var1 - var2\n",
    "var1 = var1 - var2\n",
    "\n",
    "print(var1) # It should display the value of var2\n",
    "print(var2) # It should display the value of var1"
   ]
  },
  {
   "cell_type": "code",
   "execution_count": null,
   "id": "b9c13ace",
   "metadata": {},
   "outputs": [],
   "source": []
  }
 ],
 "metadata": {
  "kernelspec": {
   "display_name": "Python 3 (ipykernel)",
   "language": "python",
   "name": "python3"
  },
  "language_info": {
   "codemirror_mode": {
    "name": "ipython",
    "version": 3
   },
   "file_extension": ".py",
   "mimetype": "text/x-python",
   "name": "python",
   "nbconvert_exporter": "python",
   "pygments_lexer": "ipython3",
   "version": "3.9.13"
  }
 },
 "nbformat": 4,
 "nbformat_minor": 5
}
